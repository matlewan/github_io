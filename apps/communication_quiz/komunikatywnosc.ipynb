{
 "cells": [
  {
   "cell_type": "code",
   "execution_count": 38,
   "metadata": {},
   "outputs": [],
   "source": [
    "import json\n",
    "\n",
    "def toJSON(obj):\n",
    "   return json.dumps(obj, default=vars, ensure_ascii=False, indent=3)\n",
    "\n",
    "class Question:\n",
    "   def __init__(self, category, text):\n",
    "      self.category : str = category\n",
    "      self.text : str = text\n",
    "\n",
    "class Category:\n",
    "   def __init__(self, code, title, answer):\n",
    "      self.code = code\n",
    "      self.title = title\n",
    "      self.answer = answer\n",
    "\n",
    "\n",
    "def getCategory(question : int) -> Category:\n",
    "   qa = [3,5,6,8,11,12,13,16,17,19,23,25,26,28,31,32,33,36,37,39,43,45,46,48,51,52,53,56,57,59,63,65,66,68,71,72,73,76,77,79]\n",
    "   qb = [1,2,4,7,9,21,22,24,27,29,41,42,44,47,49,61,62,64,67,69]\n",
    "   qc = [10,14,15,18,20,30,34,35,38,40,50,54,55,58,60,70,74,75,78,80]\n",
    "   if question in qa:\n",
    "      return 'A'\n",
    "   if question in qb:\n",
    "      return 'B'\n",
    "   if question in qc:\n",
    "      return 'C'\n",
    "\n",
    "categories = {\n",
    "   'A': Category('A', 'Błędy w komunikacji', False),\n",
    "   'B': Category('B', 'Komunikacja werbalna', True),\n",
    "   'C': Category('C', 'Komunikacja niewerbalna', True)\n",
    "}\n",
    "\n",
    "lines = []\n",
    "with open('questions.txt', encoding='utf-8') as file:\n",
    "   lines = file.readlines()\n",
    "questions = [Question(getCategory(i), q[:-4]) for q,i in zip(lines, range(1,81))]\n",
    "\n",
    "with open('communication.json', 'w') as out:\n",
    "   data = {\n",
    "      'categories': categories,\n",
    "      'questions': questions\n",
    "   }\n",
    "   out.write(toJSON(data))"
   ]
  }
 ],
 "metadata": {
  "kernelspec": {
   "display_name": "Python 3.8.10 64-bit",
   "language": "python",
   "name": "python3"
  },
  "language_info": {
   "codemirror_mode": {
    "name": "ipython",
    "version": 3
   },
   "file_extension": ".py",
   "mimetype": "text/x-python",
   "name": "python",
   "nbconvert_exporter": "python",
   "pygments_lexer": "ipython3",
   "version": "3.8.10"
  },
  "orig_nbformat": 4,
  "vscode": {
   "interpreter": {
    "hash": "31f2aee4e71d21fbe5cf8b01ff0e069b9275f58929596ceb00d14d90e3e16cd6"
   }
  }
 },
 "nbformat": 4,
 "nbformat_minor": 2
}
